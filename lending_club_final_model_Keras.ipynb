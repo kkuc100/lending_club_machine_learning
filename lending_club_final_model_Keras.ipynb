{
  "cells": [
    {
      "cell_type": "markdown",
      "metadata": {
        "id": "qTW9bApUattE"
      },
      "source": [
        "# Lending Club Final Model\n",
        "\n",
        "By: Kevin Kuc"
      ]
    },
    {
      "cell_type": "markdown",
      "metadata": {
        "id": "yxG_clgliD3S"
      },
      "source": [
        "## Step 1: Import packages"
      ]
    },
    {
      "cell_type": "code",
      "execution_count": 1,
      "metadata": {
        "id": "4HU-TTTLiUab"
      },
      "outputs": [],
      "source": [
        "import pandas as pd\n",
        "import numpy as np\n",
        "import csv\n",
        "import copy\n",
        "\n",
        "# data preprocessing\n",
        "from sklearn import preprocessing\n",
        "from sklearn.utils import resample\n",
        "from sklearn.model_selection import train_test_split\n",
        "from sklearn.preprocessing import StandardScaler\n",
        "from sklearn.decomposition import PCA\n",
        "from sklearn.decomposition import KernelPCA\n",
        "from sklearn.decomposition import IncrementalPCA\n",
        "from numpy.random.mtrand import binomial\n",
        "\n",
        "# exploratory analysis\n",
        "import matplotlib.pyplot as plt\n",
        "import mlxtend\n",
        "from mlxtend.plotting import scatterplotmatrix\n",
        "from mlxtend.plotting import heatmap\n",
        "import seaborn as sns\n",
        "from IPython.display import Image\n",
        "from matplotlib.ticker import PercentFormatter\n",
        "\n",
        "# model fit\n",
        "import statsmodels.api as sm\n",
        "import tensorflow as tf\n",
        "from tensorflow import keras\n",
        "from tensorflow.keras.layers import Dropout\n",
        "from keras import metrics\n",
        "from tensorflow.keras import initializers\n",
        "from sklearn import tree\n",
        "from sklearn.tree import DecisionTreeClassifier\n",
        "from sklearn.ensemble import RandomForestClassifier\n",
        "from sklearn.metrics import accuracy_score\n",
        "from sklearn.feature_selection import SelectKBest\n",
        "from sklearn.feature_selection import f_classif\n",
        "\n",
        "# For producing decision tree diagrams.\n",
        "from IPython.display import Image\n",
        "\n",
        "# ignore warnings (libraries are rapidly changing)\n",
        "import warnings\n",
        "warnings.filterwarnings('ignore')\n",
        "warnings.filterwarnings(\"ignore\", category=UserWarning, module=\"matplotlib\")\n",
        "\n",
        "# These commands below set some options for pandas and to have matplotlib show the charts in the notebook\n",
        "pd.set_option('display.max_rows', 1000)\n",
        "pd.set_option('display.max_columns', None)\n",
        "pd.options.display.float_format = '{:,.2f}'.format\n",
        "pd.options.mode.chained_assignment = None  # default='warn'\n"
      ]
    },
    {
      "cell_type": "markdown",
      "metadata": {
        "id": "aHv2i3W5ijto"
      },
      "source": [
        "## Step 2: Read data"
      ]
    },
    {
      "cell_type": "code",
      "execution_count": 2,
      "metadata": {
        "id": "R5SRpy7VQPf2"
      },
      "outputs": [],
      "source": [
        "# Training\n",
        "train_df = pd.read_csv('../data/train_data.csv')\n",
        "test_df = pd.read_csv('../data/test_data.csv')\n",
        "validation_df = pd.read_csv('../data/val_data.csv')\n",
        "\n",
        "train_df_deep = copy.deepcopy(train_df)\n",
        "test_df_deep = copy.deepcopy(test_df)\n",
        "validation_df_deep = copy.deepcopy(validation_df)\n",
        "\n",
        "# Drop nan values\n",
        "train_df_deep.dropna(axis=0, inplace=True)\n",
        "test_df_deep.dropna(axis=0, inplace=True)\n",
        "validation_df_deep.dropna(axis=0, inplace=True)"
      ]
    },
    {
      "cell_type": "code",
      "execution_count": 3,
      "metadata": {
        "colab": {
          "base_uri": "https://localhost:8080/"
        },
        "id": "_zRuXAXITDfu",
        "outputId": "f02f5a53-dc01-42b4-8fb4-71a6f4c84bdf"
      },
      "outputs": [
        {
          "name": "stdout",
          "output_type": "stream",
          "text": [
            "Shape of training: (191993, 34)\n",
            "Shape of test: (59999, 34)\n",
            "Shape of validation: (47999, 34)\n"
          ]
        }
      ],
      "source": [
        "#Find Shape\n",
        "print(\"Shape of training:\", train_df_deep.shape)\n",
        "print(\"Shape of test:\", test_df_deep.shape)\n",
        "print(\"Shape of validation:\", validation_df_deep.shape)"
      ]
    },
    {
      "cell_type": "markdown",
      "metadata": {},
      "source": [
        "## Feature Selection\n",
        "### full_features, partial_features, selected_features"
      ]
    },
    {
      "cell_type": "code",
      "execution_count": 4,
      "metadata": {},
      "outputs": [
        {
          "data": {
            "text/plain": [
              "Index(['loan_amnt', 'funded_amnt', 'funded_amnt_inv', 'int_rate',\n",
              "       'installment', 'sub_grade', 'home_ownership', 'annual_inc',\n",
              "       'verification_status', 'purpose', 'addr_state', 'delinq_2yrs',\n",
              "       'inq_last_6mths', 'open_acc', 'pub_rec', 'revol_bal', 'total_acc',\n",
              "       'initial_list_status', 'total_pymnt', 'total_pymnt_inv',\n",
              "       'total_rec_prncp', 'total_rec_int', 'total_rec_late_fee'],\n",
              "      dtype='object')"
            ]
          },
          "execution_count": 4,
          "metadata": {},
          "output_type": "execute_result"
        }
      ],
      "source": [
        "features_target = train_df_deep.columns\n",
        "full_features = features_target.drop(['loan_status'])\n",
        "partial_features = full_features.drop(['recoveries',\n",
        "       'collection_recovery_fee', 'last_pymnt_amnt',\n",
        "       'collections_12_mths_ex_med', 'application_type', 'acc_now_delinq',\n",
        "       'chargeoff_within_12_mths', 'tax_liens', 'disbursement_method',\n",
        "       'debt_settlement_flag'])\n",
        "partial_features"
      ]
    },
    {
      "cell_type": "code",
      "execution_count": 5,
      "metadata": {},
      "outputs": [
        {
          "name": "stdout",
          "output_type": "stream",
          "text": [
            "Selected Features: ['int_rate', 'sub_grade', 'total_pymnt', 'total_pymnt_inv', 'total_rec_prncp', 'total_rec_late_fee', 'recoveries', 'collection_recovery_fee', 'last_pymnt_amnt', 'debt_settlement_flag']\n"
          ]
        }
      ],
      "source": [
        "X_train_feat = train_df_deep[full_features].astype(float).values\n",
        "y_train_feat = train_df_deep['loan_status'].astype(float).values\n",
        "\n",
        "# Use SelectKBest to select the top k features based on ANOVA F-value\n",
        "selector = SelectKBest(score_func=f_classif, k=10)  # Adjust k as needed\n",
        "\n",
        "# Fit and get the selector to your training data\n",
        "selector.fit(X_train_feat, y_train_feat)\n",
        "selected_indices = selector.get_support(indices=True)\n",
        "\n",
        "# Get the selected feature names\n",
        "selected_features = [full_features[i] for i in selected_indices]\n",
        "\n",
        "print(\"Selected Features:\", selected_features)"
      ]
    },
    {
      "cell_type": "code",
      "execution_count": 6,
      "metadata": {},
      "outputs": [],
      "source": [
        "X_train_shape = train_df_deep[full_features].astype(float).values.shape\n",
        "y_train_shape = train_df_deep['loan_status'].astype(float).values.shape\n",
        "\n",
        "X_val_shape = validation_df_deep[full_features].astype(float).values.shape\n",
        "y_val_shape = validation_df_deep['loan_status'].astype(float).values.shape\n",
        "\n",
        "X_test_shape = test_df_deep[full_features].astype(float).values.shape\n",
        "y_test_shape = test_df_deep['loan_status'].astype(float).values.shape"
      ]
    },
    {
      "cell_type": "code",
      "execution_count": 7,
      "metadata": {},
      "outputs": [
        {
          "name": "stdout",
          "output_type": "stream",
          "text": [
            "X_train = (191993, 33), Y_train = (191993,)\n",
            "X_val = (47999, 33), Y_val = (47999,)\n",
            "X_val = (59999, 33), Y_val = (59999,)\n"
          ]
        }
      ],
      "source": [
        "print(f'X_train = {X_train_shape}, Y_train = {y_train_shape}')\n",
        "print(f'X_val = {X_val_shape}, Y_val = {y_val_shape}')\n",
        "print(f'X_val = {X_test_shape}, Y_val = {y_test_shape}')"
      ]
    },
    {
      "cell_type": "markdown",
      "metadata": {
        "id": "La6xsi711fUg"
      },
      "source": [
        "## Step 3: Model Build"
      ]
    },
    {
      "cell_type": "markdown",
      "metadata": {
        "id": "cVHq3FAykiIK"
      },
      "source": [
        "All features"
      ]
    },
    {
      "cell_type": "code",
      "execution_count": 8,
      "metadata": {
        "id": "fpa33ifIrvXY"
      },
      "outputs": [],
      "source": [
        "def build_model(features,\n",
        "                hidden_layer_sizes=[],\n",
        "                activation='relu',\n",
        "                optimizer='Adam',\n",
        "                learning_rate=0.01):\n",
        "    \"\"\"Build a binary logistic regression model using Keras.\n",
        "\n",
        "    Args:\n",
        "    hidden_layer_sizes: A list with the number of units in each hidden layer.\n",
        "    activation: The activation function to use for the hidden layers.\n",
        "    optimizer: The optimizer to use (Adam).\n",
        "    learning_rate: The desired learning rate for the optimizer.\n",
        "\n",
        "    Returns:\n",
        "    model: A tf.keras model (graph).\n",
        "    \"\"\"\n",
        "    tf.keras.backend.clear_session()\n",
        "    np.random.seed(0)\n",
        "    tf.random.set_seed(0)\n",
        "\n",
        "    # Create sequential keras model\n",
        "    model = tf.keras.Sequential()\n",
        "    model.add(tf.keras.layers.Flatten())\n",
        "\n",
        "    # implement hidden layers if specified\n",
        "    if hidden_layer_sizes != []:\n",
        "        for layer in hidden_layer_sizes:\n",
        "            model.add(tf.keras.layers.Dense(units=layer,\n",
        "                                 activation=activation))\n",
        "\n",
        "    # final layer\n",
        "    model.add(tf.keras.layers.Dense(units=1, activation='sigmoid'))\n",
        "\n",
        "    if isinstance(optimizer, str):\n",
        "        opt_class = getattr(tf.keras.optimizers, optimizer)\n",
        "        optimizer = opt_class(learning_rate=learning_rate)\n",
        "\n",
        "\n",
        "    # compile the model with the specified optimizer\n",
        "    model.compile(loss='binary_crossentropy',\n",
        "                optimizer=optimizer,\n",
        "                metrics=['accuracy'])\n",
        "\n",
        "    return model\n",
        "\n",
        "def train_and_evaluate_nn(features,\n",
        "                       hidden_layer_sizes=[],\n",
        "                       activation='relu',\n",
        "                       optimizer='Adam',\n",
        "                       learning_rate=0.01,\n",
        "                       num_epochs=5,\n",
        "                       batch_size=128\n",
        "                       ):\n",
        "\n",
        "    # Build the model.\n",
        "    model = build_model(features = features,\n",
        "                      hidden_layer_sizes=hidden_layer_sizes,\n",
        "                      activation=activation,\n",
        "                      optimizer=optimizer,\n",
        "                      learning_rate=learning_rate)\n",
        "\n",
        "    # Select the dataset.\n",
        "    X_train = train_df_deep[features].astype(float).values\n",
        "    y_train = train_df_deep['loan_status'].astype(float).values\n",
        "\n",
        "    X_val = validation_df_deep[features].astype(float).values\n",
        "    y_val = validation_df_deep['loan_status'].astype(float).values\n",
        "\n",
        "    # Train the model.\n",
        "    print('Training...')\n",
        "    history = model.fit(x=X_train,\n",
        "                        y=y_train,\n",
        "                        epochs=num_epochs,\n",
        "                        batch_size=batch_size,\n",
        "                        validation_data=(X_val, y_val),\n",
        "                        verbose=1,\n",
        "                        shuffle=True\n",
        "                        )\n",
        "\n",
        "    # Retrieve the training metrics (after each train epoch) and the final test\n",
        "    # accuracy.\n",
        "    train_accuracy = history.history['accuracy']\n",
        "    val_accuracy = history.history['val_accuracy']\n",
        "    plt.plot(train_accuracy, label='train_accuracy',color='#003262')\n",
        "    plt.plot(val_accuracy, label='validation accuracy',color='#FDB515')\n",
        "    plt.xticks(np.linspace(0,num_epochs,10)//1)\n",
        "    plt.xlabel('Train epochs')\n",
        "    plt.legend()\n",
        "    plt.show()\n",
        "\n",
        "    print(pd.DataFrame.from_dict({'train_accuracy':[train_accuracy[-1]], 'val_accuracy':[val_accuracy[-1]]}))\n",
        "\n",
        "    print(model.summary())\n",
        "\n",
        "    return model"
      ]
    },
    {
      "cell_type": "code",
      "execution_count": 9,
      "metadata": {
        "colab": {
          "base_uri": "https://localhost:8080/",
          "height": 952
        },
        "id": "AMEJO61Wti9P",
        "outputId": "742499cb-9a31-4ac8-b327-db0d464f322a"
      },
      "outputs": [
        {
          "name": "stdout",
          "output_type": "stream",
          "text": [
            "Training...\n",
            "Epoch 1/10\n",
            "\u001b[1m1500/1500\u001b[0m \u001b[32m━━━━━━━━━━━━━━━━━━━━\u001b[0m\u001b[37m\u001b[0m \u001b[1m1s\u001b[0m 392us/step - accuracy: 0.9265 - loss: 582.9853 - val_accuracy: 0.9766 - val_loss: 5.2926\n",
            "Epoch 2/10\n",
            "\u001b[1m1500/1500\u001b[0m \u001b[32m━━━━━━━━━━━━━━━━━━━━\u001b[0m\u001b[37m\u001b[0m \u001b[1m1s\u001b[0m 348us/step - accuracy: 0.9917 - loss: 5.3549 - val_accuracy: 0.9979 - val_loss: 2.3850\n",
            "Epoch 3/10\n",
            "\u001b[1m1500/1500\u001b[0m \u001b[32m━━━━━━━━━━━━━━━━━━━━\u001b[0m\u001b[37m\u001b[0m \u001b[1m1s\u001b[0m 350us/step - accuracy: 0.9943 - loss: 3.5885 - val_accuracy: 0.9899 - val_loss: 12.3985\n",
            "Epoch 4/10\n",
            "\u001b[1m1500/1500\u001b[0m \u001b[32m━━━━━━━━━━━━━━━━━━━━\u001b[0m\u001b[37m\u001b[0m \u001b[1m1s\u001b[0m 348us/step - accuracy: 0.9916 - loss: 8.4589 - val_accuracy: 0.9976 - val_loss: 4.2056\n",
            "Epoch 5/10\n",
            "\u001b[1m1500/1500\u001b[0m \u001b[32m━━━━━━━━━━━━━━━━━━━━\u001b[0m\u001b[37m\u001b[0m \u001b[1m1s\u001b[0m 350us/step - accuracy: 0.9933 - loss: 6.7200 - val_accuracy: 0.9911 - val_loss: 10.6687\n",
            "Epoch 6/10\n",
            "\u001b[1m1500/1500\u001b[0m \u001b[32m━━━━━━━━━━━━━━━━━━━━\u001b[0m\u001b[37m\u001b[0m \u001b[1m1s\u001b[0m 358us/step - accuracy: 0.9940 - loss: 5.5388 - val_accuracy: 0.9911 - val_loss: 1.5551\n",
            "Epoch 7/10\n",
            "\u001b[1m1500/1500\u001b[0m \u001b[32m━━━━━━━━━━━━━━━━━━━━\u001b[0m\u001b[37m\u001b[0m \u001b[1m1s\u001b[0m 354us/step - accuracy: 0.9942 - loss: 5.3808 - val_accuracy: 0.9951 - val_loss: 11.2009\n",
            "Epoch 8/10\n",
            "\u001b[1m1500/1500\u001b[0m \u001b[32m━━━━━━━━━━━━━━━━━━━━\u001b[0m\u001b[37m\u001b[0m \u001b[1m1s\u001b[0m 356us/step - accuracy: 0.9936 - loss: 8.3055 - val_accuracy: 0.9928 - val_loss: 10.6934\n",
            "Epoch 9/10\n",
            "\u001b[1m1500/1500\u001b[0m \u001b[32m━━━━━━━━━━━━━━━━━━━━\u001b[0m\u001b[37m\u001b[0m \u001b[1m1s\u001b[0m 353us/step - accuracy: 0.9963 - loss: 3.9610 - val_accuracy: 0.9979 - val_loss: 4.7424\n",
            "Epoch 10/10\n",
            "\u001b[1m1500/1500\u001b[0m \u001b[32m━━━━━━━━━━━━━━━━━━━━\u001b[0m\u001b[37m\u001b[0m \u001b[1m1s\u001b[0m 371us/step - accuracy: 0.9967 - loss: 3.1111 - val_accuracy: 0.9853 - val_loss: 8.3267\n"
          ]
        },
        {
          "data": {
            "image/png": "[encoded data removed]",
            "text/plain": [
              "<Figure size 640x480 with 1 Axes>"
            ]
          },
          "metadata": {},
          "output_type": "display_data"
        },
        {
          "name": "stdout",
          "output_type": "stream",
          "text": [
            "   train_accuracy  val_accuracy\n",
            "0            1.00          0.99\n"
          ]
        },
        {
          "data": {
            "text/html": [
              "<pre style=\"white-space:pre;overflow-x:auto;line-height:normal;font-family:Menlo,'DejaVu Sans Mono',consolas,'Courier New',monospace\"><span style=\"font-weight: bold\">Model: \"sequential\"</span>\n",
              "</pre>\n"
            ],
            "text/plain": [
              "\u001b[1mModel: \"sequential\"\u001b[0m\n"
            ]
          },
          "metadata": {},
          "output_type": "display_data"
        },
        {
          "data": {
            "text/html": [
              "<pre style=\"white-space:pre;overflow-x:auto;line-height:normal;font-family:Menlo,'DejaVu Sans Mono',consolas,'Courier New',monospace\">┏━━━━━━━━━━━━━━━━━━━━━━━━━━━━━━━━━┳━━━━━━━━━━━━━━━━━━━━━━━━┳━━━━━━━━━━━━━━━┓\n",
              "┃<span style=\"font-weight: bold\"> Layer (type)                    </span>┃<span style=\"font-weight: bold\"> Output Shape           </span>┃<span style=\"font-weight: bold\">       Param # </span>┃\n",
              "┡━━━━━━━━━━━━━━━━━━━━━━━━━━━━━━━━━╇━━━━━━━━━━━━━━━━━━━━━━━━╇━━━━━━━━━━━━━━━┩\n",
              "│ flatten (<span style=\"color: #0087ff; text-decoration-color: #0087ff\">Flatten</span>)               │ (<span style=\"color: #00d7ff; text-decoration-color: #00d7ff\">None</span>, <span style=\"color: #00af00; text-decoration-color: #00af00\">33</span>)             │             <span style=\"color: #00af00; text-decoration-color: #00af00\">0</span> │\n",
              "├─────────────────────────────────┼────────────────────────┼───────────────┤\n",
              "│ dense (<span style=\"color: #0087ff; text-decoration-color: #0087ff\">Dense</span>)                   │ (<span style=\"color: #00d7ff; text-decoration-color: #00d7ff\">None</span>, <span style=\"color: #00af00; text-decoration-color: #00af00\">1</span>)              │            <span style=\"color: #00af00; text-decoration-color: #00af00\">34</span> │\n",
              "└─────────────────────────────────┴────────────────────────┴───────────────┘\n",
              "</pre>\n"
            ],
            "text/plain": [
              "┏━━━━━━━━━━━━━━━━━━━━━━━━━━━━━━━━━┳━━━━━━━━━━━━━━━━━━━━━━━━┳━━━━━━━━━━━━━━━┓\n",
              "┃\u001b[1m \u001b[0m\u001b[1mLayer (type)                   \u001b[0m\u001b[1m \u001b[0m┃\u001b[1m \u001b[0m\u001b[1mOutput Shape          \u001b[0m\u001b[1m \u001b[0m┃\u001b[1m \u001b[0m\u001b[1m      Param #\u001b[0m\u001b[1m \u001b[0m┃\n",
              "┡━━━━━━━━━━━━━━━━━━━━━━━━━━━━━━━━━╇━━━━━━━━━━━━━━━━━━━━━━━━╇━━━━━━━━━━━━━━━┩\n",
              "│ flatten (\u001b[38;5;33mFlatten\u001b[0m)               │ (\u001b[38;5;45mNone\u001b[0m, \u001b[38;5;34m33\u001b[0m)             │             \u001b[38;5;34m0\u001b[0m │\n",
              "├─────────────────────────────────┼────────────────────────┼───────────────┤\n",
              "│ dense (\u001b[38;5;33mDense\u001b[0m)                   │ (\u001b[38;5;45mNone\u001b[0m, \u001b[38;5;34m1\u001b[0m)              │            \u001b[38;5;34m34\u001b[0m │\n",
              "└─────────────────────────────────┴────────────────────────┴───────────────┘\n"
            ]
          },
          "metadata": {},
          "output_type": "display_data"
        },
        {
          "data": {
            "text/html": [
              "<pre style=\"white-space:pre;overflow-x:auto;line-height:normal;font-family:Menlo,'DejaVu Sans Mono',consolas,'Courier New',monospace\"><span style=\"font-weight: bold\"> Total params: </span><span style=\"color: #00af00; text-decoration-color: #00af00\">104</span> (420.00 B)\n",
              "</pre>\n"
            ],
            "text/plain": [
              "\u001b[1m Total params: \u001b[0m\u001b[38;5;34m104\u001b[0m (420.00 B)\n"
            ]
          },
          "metadata": {},
          "output_type": "display_data"
        },
        {
          "data": {
            "text/html": [
              "<pre style=\"white-space:pre;overflow-x:auto;line-height:normal;font-family:Menlo,'DejaVu Sans Mono',consolas,'Courier New',monospace\"><span style=\"font-weight: bold\"> Trainable params: </span><span style=\"color: #00af00; text-decoration-color: #00af00\">34</span> (136.00 B)\n",
              "</pre>\n"
            ],
            "text/plain": [
              "\u001b[1m Trainable params: \u001b[0m\u001b[38;5;34m34\u001b[0m (136.00 B)\n"
            ]
          },
          "metadata": {},
          "output_type": "display_data"
        },
        {
          "data": {
            "text/html": [
              "<pre style=\"white-space:pre;overflow-x:auto;line-height:normal;font-family:Menlo,'DejaVu Sans Mono',consolas,'Courier New',monospace\"><span style=\"font-weight: bold\"> Non-trainable params: </span><span style=\"color: #00af00; text-decoration-color: #00af00\">0</span> (0.00 B)\n",
              "</pre>\n"
            ],
            "text/plain": [
              "\u001b[1m Non-trainable params: \u001b[0m\u001b[38;5;34m0\u001b[0m (0.00 B)\n"
            ]
          },
          "metadata": {},
          "output_type": "display_data"
        },
        {
          "data": {
            "text/html": [
              "<pre style=\"white-space:pre;overflow-x:auto;line-height:normal;font-family:Menlo,'DejaVu Sans Mono',consolas,'Courier New',monospace\"><span style=\"font-weight: bold\"> Optimizer params: </span><span style=\"color: #00af00; text-decoration-color: #00af00\">70</span> (284.00 B)\n",
              "</pre>\n"
            ],
            "text/plain": [
              "\u001b[1m Optimizer params: \u001b[0m\u001b[38;5;34m70\u001b[0m (284.00 B)\n"
            ]
          },
          "metadata": {},
          "output_type": "display_data"
        },
        {
          "name": "stdout",
          "output_type": "stream",
          "text": [
            "None\n",
            "Validation Accuracy with relu & Adam: <Sequential name=sequential, built=True>\n"
          ]
        }
      ],
      "source": [
        "model_full_features = train_and_evaluate_nn(full_features,\n",
        "                       hidden_layer_sizes=[],\n",
        "                       activation='relu',\n",
        "                       optimizer='Adam',\n",
        "                       learning_rate=0.01,\n",
        "                       num_epochs=10)\n",
        "print('Validation Accuracy with relu & Adam:', model_full_features)\n"
      ]
    },
    {
      "cell_type": "code",
      "execution_count": 10,
      "metadata": {
        "colab": {
          "base_uri": "https://localhost:8080/",
          "height": 1000
        },
        "id": "WKDKa_ZtrGaY",
        "outputId": "099339d0-cbd3-4d49-9b84-de86a1766f40"
      },
      "outputs": [
        {
          "name": "stdout",
          "output_type": "stream",
          "text": [
            "Training...\n",
            "Epoch 1/10\n",
            "\u001b[1m1500/1500\u001b[0m \u001b[32m━━━━━━━━━━━━━━━━━━━━\u001b[0m\u001b[37m\u001b[0m \u001b[1m1s\u001b[0m 393us/step - accuracy: 0.9154 - loss: 300.7839 - val_accuracy: 0.9949 - val_loss: 2.5041\n",
            "Epoch 2/10\n",
            "\u001b[1m1500/1500\u001b[0m \u001b[32m━━━━━━━━━━━━━━━━━━━━\u001b[0m\u001b[37m\u001b[0m \u001b[1m1s\u001b[0m 357us/step - accuracy: 0.9895 - loss: 6.4172 - val_accuracy: 0.9937 - val_loss: 3.1018\n",
            "Epoch 3/10\n",
            "\u001b[1m1500/1500\u001b[0m \u001b[32m━━━━━━━━━━━━━━━━━━━━\u001b[0m\u001b[37m\u001b[0m \u001b[1m1s\u001b[0m 356us/step - accuracy: 0.9918 - loss: 4.5810 - val_accuracy: 0.9961 - val_loss: 2.2275\n",
            "Epoch 4/10\n",
            "\u001b[1m1500/1500\u001b[0m \u001b[32m━━━━━━━━━━━━━━━━━━━━\u001b[0m\u001b[37m\u001b[0m \u001b[1m1s\u001b[0m 348us/step - accuracy: 0.9911 - loss: 7.1760 - val_accuracy: 0.9944 - val_loss: 5.8018\n",
            "Epoch 5/10\n",
            "\u001b[1m1500/1500\u001b[0m \u001b[32m━━━━━━━━━━━━━━━━━━━━\u001b[0m\u001b[37m\u001b[0m \u001b[1m1s\u001b[0m 349us/step - accuracy: 0.9941 - loss: 5.4935 - val_accuracy: 0.9962 - val_loss: 2.4989\n",
            "Epoch 6/10\n",
            "\u001b[1m1500/1500\u001b[0m \u001b[32m━━━━━━━━━━━━━━━━━━━━\u001b[0m\u001b[37m\u001b[0m \u001b[1m1s\u001b[0m 351us/step - accuracy: 0.9921 - loss: 5.5564 - val_accuracy: 0.9864 - val_loss: 6.4277\n",
            "Epoch 7/10\n",
            "\u001b[1m1500/1500\u001b[0m \u001b[32m━━━━━━━━━━━━━━━━━━━━\u001b[0m\u001b[37m\u001b[0m \u001b[1m1s\u001b[0m 361us/step - accuracy: 0.9921 - loss: 7.6830 - val_accuracy: 0.9956 - val_loss: 5.7818\n",
            "Epoch 8/10\n",
            "\u001b[1m1500/1500\u001b[0m \u001b[32m━━━━━━━━━━━━━━━━━━━━\u001b[0m\u001b[37m\u001b[0m \u001b[1m1s\u001b[0m 357us/step - accuracy: 0.9946 - loss: 3.9502 - val_accuracy: 0.9975 - val_loss: 3.4642\n",
            "Epoch 9/10\n",
            "\u001b[1m1500/1500\u001b[0m \u001b[32m━━━━━━━━━━━━━━━━━━━━\u001b[0m\u001b[37m\u001b[0m \u001b[1m1s\u001b[0m 369us/step - accuracy: 0.9945 - loss: 5.5022 - val_accuracy: 0.9951 - val_loss: 6.1648\n",
            "Epoch 10/10\n",
            "\u001b[1m1500/1500\u001b[0m \u001b[32m━━━━━━━━━━━━━━━━━━━━\u001b[0m\u001b[37m\u001b[0m \u001b[1m1s\u001b[0m 347us/step - accuracy: 0.9952 - loss: 4.8354 - val_accuracy: 0.9979 - val_loss: 2.0733\n"
          ]
        },
        {
          "data": {
            "image/png": "[encoded data removed]",
            "text/plain": [
              "<Figure size 640x480 with 1 Axes>"
            ]
          },
          "metadata": {},
          "output_type": "display_data"
        },
        {
          "name": "stdout",
          "output_type": "stream",
          "text": [
            "   train_accuracy  val_accuracy\n",
            "0            1.00          1.00\n"
          ]
        },
        {
          "data": {
            "text/html": [
              "<pre style=\"white-space:pre;overflow-x:auto;line-height:normal;font-family:Menlo,'DejaVu Sans Mono',consolas,'Courier New',monospace\"><span style=\"font-weight: bold\">Model: \"sequential\"</span>\n",
              "</pre>\n"
            ],
            "text/plain": [
              "\u001b[1mModel: \"sequential\"\u001b[0m\n"
            ]
          },
          "metadata": {},
          "output_type": "display_data"
        },
        {
          "data": {
            "text/html": [
              "<pre style=\"white-space:pre;overflow-x:auto;line-height:normal;font-family:Menlo,'DejaVu Sans Mono',consolas,'Courier New',monospace\">┏━━━━━━━━━━━━━━━━━━━━━━━━━━━━━━━━━┳━━━━━━━━━━━━━━━━━━━━━━━━┳━━━━━━━━━━━━━━━┓\n",
              "┃<span style=\"font-weight: bold\"> Layer (type)                    </span>┃<span style=\"font-weight: bold\"> Output Shape           </span>┃<span style=\"font-weight: bold\">       Param # </span>┃\n",
              "┡━━━━━━━━━━━━━━━━━━━━━━━━━━━━━━━━━╇━━━━━━━━━━━━━━━━━━━━━━━━╇━━━━━━━━━━━━━━━┩\n",
              "│ flatten (<span style=\"color: #0087ff; text-decoration-color: #0087ff\">Flatten</span>)               │ (<span style=\"color: #00d7ff; text-decoration-color: #00d7ff\">None</span>, <span style=\"color: #00af00; text-decoration-color: #00af00\">23</span>)             │             <span style=\"color: #00af00; text-decoration-color: #00af00\">0</span> │\n",
              "├─────────────────────────────────┼────────────────────────┼───────────────┤\n",
              "│ dense (<span style=\"color: #0087ff; text-decoration-color: #0087ff\">Dense</span>)                   │ (<span style=\"color: #00d7ff; text-decoration-color: #00d7ff\">None</span>, <span style=\"color: #00af00; text-decoration-color: #00af00\">1</span>)              │            <span style=\"color: #00af00; text-decoration-color: #00af00\">24</span> │\n",
              "└─────────────────────────────────┴────────────────────────┴───────────────┘\n",
              "</pre>\n"
            ],
            "text/plain": [
              "┏━━━━━━━━━━━━━━━━━━━━━━━━━━━━━━━━━┳━━━━━━━━━━━━━━━━━━━━━━━━┳━━━━━━━━━━━━━━━┓\n",
              "┃\u001b[1m \u001b[0m\u001b[1mLayer (type)                   \u001b[0m\u001b[1m \u001b[0m┃\u001b[1m \u001b[0m\u001b[1mOutput Shape          \u001b[0m\u001b[1m \u001b[0m┃\u001b[1m \u001b[0m\u001b[1m      Param #\u001b[0m\u001b[1m \u001b[0m┃\n",
              "┡━━━━━━━━━━━━━━━━━━━━━━━━━━━━━━━━━╇━━━━━━━━━━━━━━━━━━━━━━━━╇━━━━━━━━━━━━━━━┩\n",
              "│ flatten (\u001b[38;5;33mFlatten\u001b[0m)               │ (\u001b[38;5;45mNone\u001b[0m, \u001b[38;5;34m23\u001b[0m)             │             \u001b[38;5;34m0\u001b[0m │\n",
              "├─────────────────────────────────┼────────────────────────┼───────────────┤\n",
              "│ dense (\u001b[38;5;33mDense\u001b[0m)                   │ (\u001b[38;5;45mNone\u001b[0m, \u001b[38;5;34m1\u001b[0m)              │            \u001b[38;5;34m24\u001b[0m │\n",
              "└─────────────────────────────────┴────────────────────────┴───────────────┘\n"
            ]
          },
          "metadata": {},
          "output_type": "display_data"
        },
        {
          "data": {
            "text/html": [
              "<pre style=\"white-space:pre;overflow-x:auto;line-height:normal;font-family:Menlo,'DejaVu Sans Mono',consolas,'Courier New',monospace\"><span style=\"font-weight: bold\"> Total params: </span><span style=\"color: #00af00; text-decoration-color: #00af00\">74</span> (300.00 B)\n",
              "</pre>\n"
            ],
            "text/plain": [
              "\u001b[1m Total params: \u001b[0m\u001b[38;5;34m74\u001b[0m (300.00 B)\n"
            ]
          },
          "metadata": {},
          "output_type": "display_data"
        },
        {
          "data": {
            "text/html": [
              "<pre style=\"white-space:pre;overflow-x:auto;line-height:normal;font-family:Menlo,'DejaVu Sans Mono',consolas,'Courier New',monospace\"><span style=\"font-weight: bold\"> Trainable params: </span><span style=\"color: #00af00; text-decoration-color: #00af00\">24</span> (96.00 B)\n",
              "</pre>\n"
            ],
            "text/plain": [
              "\u001b[1m Trainable params: \u001b[0m\u001b[38;5;34m24\u001b[0m (96.00 B)\n"
            ]
          },
          "metadata": {},
          "output_type": "display_data"
        },
        {
          "data": {
            "text/html": [
              "<pre style=\"white-space:pre;overflow-x:auto;line-height:normal;font-family:Menlo,'DejaVu Sans Mono',consolas,'Courier New',monospace\"><span style=\"font-weight: bold\"> Non-trainable params: </span><span style=\"color: #00af00; text-decoration-color: #00af00\">0</span> (0.00 B)\n",
              "</pre>\n"
            ],
            "text/plain": [
              "\u001b[1m Non-trainable params: \u001b[0m\u001b[38;5;34m0\u001b[0m (0.00 B)\n"
            ]
          },
          "metadata": {},
          "output_type": "display_data"
        },
        {
          "data": {
            "text/html": [
              "<pre style=\"white-space:pre;overflow-x:auto;line-height:normal;font-family:Menlo,'DejaVu Sans Mono',consolas,'Courier New',monospace\"><span style=\"font-weight: bold\"> Optimizer params: </span><span style=\"color: #00af00; text-decoration-color: #00af00\">50</span> (204.00 B)\n",
              "</pre>\n"
            ],
            "text/plain": [
              "\u001b[1m Optimizer params: \u001b[0m\u001b[38;5;34m50\u001b[0m (204.00 B)\n"
            ]
          },
          "metadata": {},
          "output_type": "display_data"
        },
        {
          "name": "stdout",
          "output_type": "stream",
          "text": [
            "None\n",
            "Validation Accuracy with relu & Adam: <Sequential name=sequential, built=True>\n"
          ]
        }
      ],
      "source": [
        "model_partial_features = train_and_evaluate_nn(partial_features,\n",
        "                       hidden_layer_sizes=[],\n",
        "                       activation='relu',\n",
        "                       optimizer='Adam',\n",
        "                       learning_rate=0.01,\n",
        "                       num_epochs=10)\n",
        "print('Validation Accuracy with relu & Adam:', model_partial_features)\n"
      ]
    },
    {
      "cell_type": "code",
      "execution_count": 11,
      "metadata": {},
      "outputs": [
        {
          "name": "stdout",
          "output_type": "stream",
          "text": [
            "Training...\n",
            "Epoch 1/10\n",
            "\u001b[1m1500/1500\u001b[0m \u001b[32m━━━━━━━━━━━━━━━━━━━━\u001b[0m\u001b[37m\u001b[0m \u001b[1m1s\u001b[0m 394us/step - accuracy: 0.8250 - loss: 157.7873 - val_accuracy: 0.9312 - val_loss: 3.8062\n",
            "Epoch 2/10\n",
            "\u001b[1m1500/1500\u001b[0m \u001b[32m━━━━━━━━━━━━━━━━━━━━\u001b[0m\u001b[37m\u001b[0m \u001b[1m1s\u001b[0m 353us/step - accuracy: 0.9204 - loss: 4.0176 - val_accuracy: 0.9367 - val_loss: 3.1818\n",
            "Epoch 3/10\n",
            "\u001b[1m1500/1500\u001b[0m \u001b[32m━━━━━━━━━━━━━━━━━━━━\u001b[0m\u001b[37m\u001b[0m \u001b[1m1s\u001b[0m 359us/step - accuracy: 0.9198 - loss: 4.2866 - val_accuracy: 0.9291 - val_loss: 3.6586\n",
            "Epoch 4/10\n",
            "\u001b[1m1500/1500\u001b[0m \u001b[32m━━━━━━━━━━━━━━━━━━━━\u001b[0m\u001b[37m\u001b[0m \u001b[1m1s\u001b[0m 356us/step - accuracy: 0.9215 - loss: 4.0164 - val_accuracy: 0.9255 - val_loss: 3.7436\n",
            "Epoch 5/10\n",
            "\u001b[1m1500/1500\u001b[0m \u001b[32m━━━━━━━━━━━━━━━━━━━━\u001b[0m\u001b[37m\u001b[0m \u001b[1m1s\u001b[0m 352us/step - accuracy: 0.9231 - loss: 4.2211 - val_accuracy: 0.9402 - val_loss: 2.1936\n",
            "Epoch 6/10\n",
            "\u001b[1m1500/1500\u001b[0m \u001b[32m━━━━━━━━━━━━━━━━━━━━\u001b[0m\u001b[37m\u001b[0m \u001b[1m1s\u001b[0m 361us/step - accuracy: 0.9234 - loss: 3.5971 - val_accuracy: 0.9257 - val_loss: 3.1188\n",
            "Epoch 7/10\n",
            "\u001b[1m1500/1500\u001b[0m \u001b[32m━━━━━━━━━━━━━━━━━━━━\u001b[0m\u001b[37m\u001b[0m \u001b[1m1s\u001b[0m 357us/step - accuracy: 0.9263 - loss: 3.5075 - val_accuracy: 0.9441 - val_loss: 2.1209\n",
            "Epoch 8/10\n",
            "\u001b[1m1500/1500\u001b[0m \u001b[32m━━━━━━━━━━━━━━━━━━━━\u001b[0m\u001b[37m\u001b[0m \u001b[1m1s\u001b[0m 360us/step - accuracy: 0.9257 - loss: 4.0262 - val_accuracy: 0.9505 - val_loss: 1.5625\n",
            "Epoch 9/10\n",
            "\u001b[1m1500/1500\u001b[0m \u001b[32m━━━━━━━━━━━━━━━━━━━━\u001b[0m\u001b[37m\u001b[0m \u001b[1m1s\u001b[0m 349us/step - accuracy: 0.9279 - loss: 3.0624 - val_accuracy: 0.9208 - val_loss: 4.5620\n",
            "Epoch 10/10\n",
            "\u001b[1m1500/1500\u001b[0m \u001b[32m━━━━━━━━━━━━━━━━━━━━\u001b[0m\u001b[37m\u001b[0m \u001b[1m1s\u001b[0m 350us/step - accuracy: 0.9295 - loss: 3.1315 - val_accuracy: 0.9231 - val_loss: 3.6978\n"
          ]
        },
        {
          "data": {
            "image/png": "[encoded data removed]",
            "text/plain": [
              "<Figure size 640x480 with 1 Axes>"
            ]
          },
          "metadata": {},
          "output_type": "display_data"
        },
        {
          "name": "stdout",
          "output_type": "stream",
          "text": [
            "   train_accuracy  val_accuracy\n",
            "0            0.93          0.92\n"
          ]
        },
        {
          "data": {
            "text/html": [
              "<pre style=\"white-space:pre;overflow-x:auto;line-height:normal;font-family:Menlo,'DejaVu Sans Mono',consolas,'Courier New',monospace\"><span style=\"font-weight: bold\">Model: \"sequential\"</span>\n",
              "</pre>\n"
            ],
            "text/plain": [
              "\u001b[1mModel: \"sequential\"\u001b[0m\n"
            ]
          },
          "metadata": {},
          "output_type": "display_data"
        },
        {
          "data": {
            "text/html": [
              "<pre style=\"white-space:pre;overflow-x:auto;line-height:normal;font-family:Menlo,'DejaVu Sans Mono',consolas,'Courier New',monospace\">┏━━━━━━━━━━━━━━━━━━━━━━━━━━━━━━━━━┳━━━━━━━━━━━━━━━━━━━━━━━━┳━━━━━━━━━━━━━━━┓\n",
              "┃<span style=\"font-weight: bold\"> Layer (type)                    </span>┃<span style=\"font-weight: bold\"> Output Shape           </span>┃<span style=\"font-weight: bold\">       Param # </span>┃\n",
              "┡━━━━━━━━━━━━━━━━━━━━━━━━━━━━━━━━━╇━━━━━━━━━━━━━━━━━━━━━━━━╇━━━━━━━━━━━━━━━┩\n",
              "│ flatten (<span style=\"color: #0087ff; text-decoration-color: #0087ff\">Flatten</span>)               │ (<span style=\"color: #00d7ff; text-decoration-color: #00d7ff\">None</span>, <span style=\"color: #00af00; text-decoration-color: #00af00\">10</span>)             │             <span style=\"color: #00af00; text-decoration-color: #00af00\">0</span> │\n",
              "├─────────────────────────────────┼────────────────────────┼───────────────┤\n",
              "│ dense (<span style=\"color: #0087ff; text-decoration-color: #0087ff\">Dense</span>)                   │ (<span style=\"color: #00d7ff; text-decoration-color: #00d7ff\">None</span>, <span style=\"color: #00af00; text-decoration-color: #00af00\">1</span>)              │            <span style=\"color: #00af00; text-decoration-color: #00af00\">11</span> │\n",
              "└─────────────────────────────────┴────────────────────────┴───────────────┘\n",
              "</pre>\n"
            ],
            "text/plain": [
              "┏━━━━━━━━━━━━━━━━━━━━━━━━━━━━━━━━━┳━━━━━━━━━━━━━━━━━━━━━━━━┳━━━━━━━━━━━━━━━┓\n",
              "┃\u001b[1m \u001b[0m\u001b[1mLayer (type)                   \u001b[0m\u001b[1m \u001b[0m┃\u001b[1m \u001b[0m\u001b[1mOutput Shape          \u001b[0m\u001b[1m \u001b[0m┃\u001b[1m \u001b[0m\u001b[1m      Param #\u001b[0m\u001b[1m \u001b[0m┃\n",
              "┡━━━━━━━━━━━━━━━━━━━━━━━━━━━━━━━━━╇━━━━━━━━━━━━━━━━━━━━━━━━╇━━━━━━━━━━━━━━━┩\n",
              "│ flatten (\u001b[38;5;33mFlatten\u001b[0m)               │ (\u001b[38;5;45mNone\u001b[0m, \u001b[38;5;34m10\u001b[0m)             │             \u001b[38;5;34m0\u001b[0m │\n",
              "├─────────────────────────────────┼────────────────────────┼───────────────┤\n",
              "│ dense (\u001b[38;5;33mDense\u001b[0m)                   │ (\u001b[38;5;45mNone\u001b[0m, \u001b[38;5;34m1\u001b[0m)              │            \u001b[38;5;34m11\u001b[0m │\n",
              "└─────────────────────────────────┴────────────────────────┴───────────────┘\n"
            ]
          },
          "metadata": {},
          "output_type": "display_data"
        },
        {
          "data": {
            "text/html": [
              "<pre style=\"white-space:pre;overflow-x:auto;line-height:normal;font-family:Menlo,'DejaVu Sans Mono',consolas,'Courier New',monospace\"><span style=\"font-weight: bold\"> Total params: </span><span style=\"color: #00af00; text-decoration-color: #00af00\">35</span> (144.00 B)\n",
              "</pre>\n"
            ],
            "text/plain": [
              "\u001b[1m Total params: \u001b[0m\u001b[38;5;34m35\u001b[0m (144.00 B)\n"
            ]
          },
          "metadata": {},
          "output_type": "display_data"
        },
        {
          "data": {
            "text/html": [
              "<pre style=\"white-space:pre;overflow-x:auto;line-height:normal;font-family:Menlo,'DejaVu Sans Mono',consolas,'Courier New',monospace\"><span style=\"font-weight: bold\"> Trainable params: </span><span style=\"color: #00af00; text-decoration-color: #00af00\">11</span> (44.00 B)\n",
              "</pre>\n"
            ],
            "text/plain": [
              "\u001b[1m Trainable params: \u001b[0m\u001b[38;5;34m11\u001b[0m (44.00 B)\n"
            ]
          },
          "metadata": {},
          "output_type": "display_data"
        },
        {
          "data": {
            "text/html": [
              "<pre style=\"white-space:pre;overflow-x:auto;line-height:normal;font-family:Menlo,'DejaVu Sans Mono',consolas,'Courier New',monospace\"><span style=\"font-weight: bold\"> Non-trainable params: </span><span style=\"color: #00af00; text-decoration-color: #00af00\">0</span> (0.00 B)\n",
              "</pre>\n"
            ],
            "text/plain": [
              "\u001b[1m Non-trainable params: \u001b[0m\u001b[38;5;34m0\u001b[0m (0.00 B)\n"
            ]
          },
          "metadata": {},
          "output_type": "display_data"
        },
        {
          "data": {
            "text/html": [
              "<pre style=\"white-space:pre;overflow-x:auto;line-height:normal;font-family:Menlo,'DejaVu Sans Mono',consolas,'Courier New',monospace\"><span style=\"font-weight: bold\"> Optimizer params: </span><span style=\"color: #00af00; text-decoration-color: #00af00\">24</span> (100.00 B)\n",
              "</pre>\n"
            ],
            "text/plain": [
              "\u001b[1m Optimizer params: \u001b[0m\u001b[38;5;34m24\u001b[0m (100.00 B)\n"
            ]
          },
          "metadata": {},
          "output_type": "display_data"
        },
        {
          "name": "stdout",
          "output_type": "stream",
          "text": [
            "None\n",
            "Validation Accuracy with relu & Adam: <Sequential name=sequential, built=True>\n"
          ]
        }
      ],
      "source": [
        "model_selected_features = train_and_evaluate_nn(selected_features,\n",
        "                       hidden_layer_sizes=[],\n",
        "                       activation='relu',\n",
        "                       optimizer='Adam',\n",
        "                       learning_rate=0.01,\n",
        "                       num_epochs=10)\n",
        "print('Validation Accuracy with relu & Adam:', model_selected_features)"
      ]
    },
    {
      "cell_type": "code",
      "execution_count": 14,
      "metadata": {},
      "outputs": [
        {
          "name": "stdout",
          "output_type": "stream",
          "text": [
            "zsh:1: /Users/kevinkuc/Documents/personal_projects/lending_club_machine_learning/.venv/bin/pip: bad interpreter: /Users/kevinkuc/Documents/personal_projects/lending_club_ml/.venv/bin/python: no such file or directory\n",
            "/opt/homebrew/Cellar/pyenv/2.3.35/pyenv.d/exec/pip-rehash/pip: /Users/kevinkuc/Documents/personal_projects/lending_club_machine_learning/.venv/bin/pip: /Users/kevinkuc/Documents/personal_projects/lending_club_ml/.venv/bin/python: bad interpreter: No such file or directory\n"
          ]
        }
      ],
      "source": [
        "!pip list\n"
      ]
    }
  ],
  "metadata": {
    "colab": {
      "provenance": [],
      "toc_visible": true
    },
    "kernelspec": {
      "display_name": "Python 3",
      "name": "python3"
    },
    "language_info": {
      "codemirror_mode": {
        "name": "ipython",
        "version": 3
      },
      "file_extension": ".py",
      "mimetype": "text/x-python",
      "name": "python",
      "nbconvert_exporter": "python",
      "pygments_lexer": "ipython3",
      "version": "3.11.0"
    }
  },
  "nbformat": 4,
  "nbformat_minor": 0
}
